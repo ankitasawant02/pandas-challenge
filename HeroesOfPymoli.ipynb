{
 "cells": [
  {
   "cell_type": "code",
   "execution_count": 119,
   "metadata": {
    "scrolled": true
   },
   "outputs": [
    {
     "data": {
      "text/html": [
       "<div>\n",
       "<style scoped>\n",
       "    .dataframe tbody tr th:only-of-type {\n",
       "        vertical-align: middle;\n",
       "    }\n",
       "\n",
       "    .dataframe tbody tr th {\n",
       "        vertical-align: top;\n",
       "    }\n",
       "\n",
       "    .dataframe thead th {\n",
       "        text-align: right;\n",
       "    }\n",
       "</style>\n",
       "<table border=\"1\" class=\"dataframe\">\n",
       "  <thead>\n",
       "    <tr style=\"text-align: right;\">\n",
       "      <th></th>\n",
       "      <th>Purchase ID</th>\n",
       "      <th>SN</th>\n",
       "      <th>Age</th>\n",
       "      <th>Gender</th>\n",
       "      <th>Item ID</th>\n",
       "      <th>Item Name</th>\n",
       "      <th>Price</th>\n",
       "    </tr>\n",
       "  </thead>\n",
       "  <tbody>\n",
       "    <tr>\n",
       "      <th>0</th>\n",
       "      <td>0</td>\n",
       "      <td>Lisim78</td>\n",
       "      <td>20</td>\n",
       "      <td>Male</td>\n",
       "      <td>108</td>\n",
       "      <td>Extraction, Quickblade Of Trembling Hands</td>\n",
       "      <td>3.53</td>\n",
       "    </tr>\n",
       "    <tr>\n",
       "      <th>1</th>\n",
       "      <td>1</td>\n",
       "      <td>Lisovynya38</td>\n",
       "      <td>40</td>\n",
       "      <td>Male</td>\n",
       "      <td>143</td>\n",
       "      <td>Frenzied Scimitar</td>\n",
       "      <td>1.56</td>\n",
       "    </tr>\n",
       "    <tr>\n",
       "      <th>2</th>\n",
       "      <td>2</td>\n",
       "      <td>Ithergue48</td>\n",
       "      <td>24</td>\n",
       "      <td>Male</td>\n",
       "      <td>92</td>\n",
       "      <td>Final Critic</td>\n",
       "      <td>4.88</td>\n",
       "    </tr>\n",
       "    <tr>\n",
       "      <th>3</th>\n",
       "      <td>3</td>\n",
       "      <td>Chamassasya86</td>\n",
       "      <td>24</td>\n",
       "      <td>Male</td>\n",
       "      <td>100</td>\n",
       "      <td>Blindscythe</td>\n",
       "      <td>3.27</td>\n",
       "    </tr>\n",
       "    <tr>\n",
       "      <th>4</th>\n",
       "      <td>4</td>\n",
       "      <td>Iskosia90</td>\n",
       "      <td>23</td>\n",
       "      <td>Male</td>\n",
       "      <td>131</td>\n",
       "      <td>Fury</td>\n",
       "      <td>1.44</td>\n",
       "    </tr>\n",
       "  </tbody>\n",
       "</table>\n",
       "</div>"
      ],
      "text/plain": [
       "   Purchase ID             SN  Age Gender  Item ID  \\\n",
       "0            0        Lisim78   20   Male      108   \n",
       "1            1    Lisovynya38   40   Male      143   \n",
       "2            2     Ithergue48   24   Male       92   \n",
       "3            3  Chamassasya86   24   Male      100   \n",
       "4            4      Iskosia90   23   Male      131   \n",
       "\n",
       "                                   Item Name  Price  \n",
       "0  Extraction, Quickblade Of Trembling Hands   3.53  \n",
       "1                          Frenzied Scimitar   1.56  \n",
       "2                               Final Critic   4.88  \n",
       "3                                Blindscythe   3.27  \n",
       "4                                       Fury   1.44  "
      ]
     },
     "execution_count": 119,
     "metadata": {},
     "output_type": "execute_result"
    }
   ],
   "source": [
    "# Dependencies and Setup\n",
    "import pandas as pd\n",
    "import numpy as np\n",
    "\n",
    "# File to Load (Remember to Change These)\n",
    "file_to_load = \"Resources/purchase_data.csv\"\n",
    "\n",
    "# Read Purchasing File and store into Pandas data frame\n",
    "purchase_data = pd.read_csv(file_to_load)\n",
    "purchase_data.head()"
   ]
  },
  {
   "cell_type": "code",
   "execution_count": 120,
   "metadata": {},
   "outputs": [
    {
     "data": {
      "text/plain": [
       "Index(['Purchase ID', 'SN', 'Age', 'Gender', 'Item ID', 'Item Name', 'Price'], dtype='object')"
      ]
     },
     "execution_count": 120,
     "metadata": {},
     "output_type": "execute_result"
    }
   ],
   "source": [
    "#print the column names\n",
    "purchase_data.columns"
   ]
  },
  {
   "cell_type": "code",
   "execution_count": 121,
   "metadata": {},
   "outputs": [
    {
     "data": {
      "text/html": [
       "<div>\n",
       "<style scoped>\n",
       "    .dataframe tbody tr th:only-of-type {\n",
       "        vertical-align: middle;\n",
       "    }\n",
       "\n",
       "    .dataframe tbody tr th {\n",
       "        vertical-align: top;\n",
       "    }\n",
       "\n",
       "    .dataframe thead th {\n",
       "        text-align: right;\n",
       "    }\n",
       "</style>\n",
       "<table border=\"1\" class=\"dataframe\">\n",
       "  <thead>\n",
       "    <tr style=\"text-align: right;\">\n",
       "      <th></th>\n",
       "      <th>Total Players</th>\n",
       "    </tr>\n",
       "  </thead>\n",
       "  <tbody>\n",
       "    <tr>\n",
       "      <th>0</th>\n",
       "      <td>576</td>\n",
       "    </tr>\n",
       "  </tbody>\n",
       "</table>\n",
       "</div>"
      ],
      "text/plain": [
       "   Total Players\n",
       "0            576"
      ]
     },
     "execution_count": 121,
     "metadata": {},
     "output_type": "execute_result"
    }
   ],
   "source": [
    "################Player Count################\n",
    "\n",
    "#to print unique names\n",
    "unique_names = purchase_data.nunique()\n",
    "\n",
    "#Display the total number of players\n",
    "player_count = unique_names [\"SN\"].sum()\n",
    "\n",
    "#convert into dataframe\n",
    "player_count_df = pd.DataFrame({\"Total Players\": [player_count]})\n",
    "player_count_df"
   ]
  },
  {
   "cell_type": "code",
   "execution_count": 122,
   "metadata": {},
   "outputs": [
    {
     "data": {
      "text/html": [
       "<style  type=\"text/css\" >\n",
       "</style><table id=\"T_eeb2773a_6fbb_11e9_820f_acbc32be7e49\" ><thead>    <tr>        <th class=\"blank level0\" ></th>        <th class=\"col_heading level0 col0\" >Number of Unique Items</th>        <th class=\"col_heading level0 col1\" >Average Price</th>        <th class=\"col_heading level0 col2\" >Number of Purchases</th>        <th class=\"col_heading level0 col3\" >Total Revenue</th>    </tr></thead><tbody>\n",
       "                <tr>\n",
       "                        <th id=\"T_eeb2773a_6fbb_11e9_820f_acbc32be7e49level0_row0\" class=\"row_heading level0 row0\" >0</th>\n",
       "                        <td id=\"T_eeb2773a_6fbb_11e9_820f_acbc32be7e49row0_col0\" class=\"data row0 col0\" >183</td>\n",
       "                        <td id=\"T_eeb2773a_6fbb_11e9_820f_acbc32be7e49row0_col1\" class=\"data row0 col1\" >$3.05</td>\n",
       "                        <td id=\"T_eeb2773a_6fbb_11e9_820f_acbc32be7e49row0_col2\" class=\"data row0 col2\" >780</td>\n",
       "                        <td id=\"T_eeb2773a_6fbb_11e9_820f_acbc32be7e49row0_col3\" class=\"data row0 col3\" >$2,379.77</td>\n",
       "            </tr>\n",
       "    </tbody></table>"
      ],
      "text/plain": [
       "<pandas.io.formats.style.Styler at 0x116e3a5f8>"
      ]
     },
     "execution_count": 122,
     "metadata": {},
     "output_type": "execute_result"
    }
   ],
   "source": [
    "################Purchasing Analysis (Total)################\n",
    "\n",
    "#Number of Unique Items\n",
    "unique_item = purchase_data [\"Item ID\"].nunique()\n",
    "\n",
    "#Average Price\n",
    "average_price = purchase_data[\"Price\"].mean()\n",
    "\n",
    "#Number of Purchase\n",
    "num_of_purchase = purchase_data [\"Purchase ID\"].nunique()\n",
    "\n",
    "#Total Revenue\n",
    "total_revenue = average_price * num_of_purchase\n",
    "\n",
    "#convert into dataframe\n",
    "purchase_analysis_total_df = pd.DataFrame({\"Number of Unique Items\":[unique_item], \"Average Price\":[average_price],\"Number of Purchases\":[num_of_purchase], \"Total Revenue\":[total_revenue]})\n",
    "\n",
    "#Format the average price and total revenue\n",
    "purchase_analysis_total_df.style.format({'Average Price':\"${:,.2f}\",'Total Revenue':\"${:,.2f}\"})\n"
   ]
  },
  {
   "cell_type": "code",
   "execution_count": 123,
   "metadata": {
    "scrolled": true
   },
   "outputs": [
    {
     "data": {
      "text/html": [
       "<style  type=\"text/css\" >\n",
       "</style><table id=\"T_ef2c3426_6fbb_11e9_9627_acbc32be7e49\" ><thead>    <tr>        <th class=\"blank level0\" ></th>        <th class=\"col_heading level0 col0\" >Total Count</th>        <th class=\"col_heading level0 col1\" >Percentage of Players</th>    </tr>    <tr>        <th class=\"index_name level0\" >Gender</th>        <th class=\"blank\" ></th>        <th class=\"blank\" ></th>    </tr></thead><tbody>\n",
       "                <tr>\n",
       "                        <th id=\"T_ef2c3426_6fbb_11e9_9627_acbc32be7e49level0_row0\" class=\"row_heading level0 row0\" >Female</th>\n",
       "                        <td id=\"T_ef2c3426_6fbb_11e9_9627_acbc32be7e49row0_col0\" class=\"data row0 col0\" >81</td>\n",
       "                        <td id=\"T_ef2c3426_6fbb_11e9_9627_acbc32be7e49row0_col1\" class=\"data row0 col1\" >14.06</td>\n",
       "            </tr>\n",
       "            <tr>\n",
       "                        <th id=\"T_ef2c3426_6fbb_11e9_9627_acbc32be7e49level0_row1\" class=\"row_heading level0 row1\" >Male</th>\n",
       "                        <td id=\"T_ef2c3426_6fbb_11e9_9627_acbc32be7e49row1_col0\" class=\"data row1 col0\" >484</td>\n",
       "                        <td id=\"T_ef2c3426_6fbb_11e9_9627_acbc32be7e49row1_col1\" class=\"data row1 col1\" >84.03</td>\n",
       "            </tr>\n",
       "            <tr>\n",
       "                        <th id=\"T_ef2c3426_6fbb_11e9_9627_acbc32be7e49level0_row2\" class=\"row_heading level0 row2\" >Other / Non-Disclosed</th>\n",
       "                        <td id=\"T_ef2c3426_6fbb_11e9_9627_acbc32be7e49row2_col0\" class=\"data row2 col0\" >11</td>\n",
       "                        <td id=\"T_ef2c3426_6fbb_11e9_9627_acbc32be7e49row2_col1\" class=\"data row2 col1\" >1.91</td>\n",
       "            </tr>\n",
       "    </tbody></table>"
      ],
      "text/plain": [
       "<pandas.io.formats.style.Styler at 0x116e4b748>"
      ]
     },
     "execution_count": 123,
     "metadata": {},
     "output_type": "execute_result"
    }
   ],
   "source": [
    "################Gender Demographics################\n",
    "\n",
    "#Purchase data by gender\n",
    "gender_count = purchase_data.groupby(\"Gender\")\n",
    "\n",
    "#Count the total of \"SN\" by gender\n",
    "total_count_gender = gender_count[\"SN\"].nunique()\n",
    "\n",
    "#Total count by gender and divide by total players \n",
    "percentage_players = (total_count_gender/player_count)*100\n",
    "\n",
    "#convert into dataframe\n",
    "gender_demographics = pd.DataFrame({\"Total Count\": total_count_gender,\"Percentage of Players\": percentage_players})\n",
    "\n",
    "#Format the total count and percentage of players\n",
    "gender_demographics.style.format({'Percentage of Players':\"{:,.2f}\"})\n"
   ]
  },
  {
   "cell_type": "code",
   "execution_count": 124,
   "metadata": {},
   "outputs": [
    {
     "data": {
      "text/html": [
       "<style  type=\"text/css\" >\n",
       "</style><table id=\"T_efaafe46_6fbb_11e9_98eb_acbc32be7e49\" ><thead>    <tr>        <th class=\"blank level0\" ></th>        <th class=\"col_heading level0 col0\" >Purchase Count</th>        <th class=\"col_heading level0 col1\" >Average Purchase Price</th>        <th class=\"col_heading level0 col2\" >Total Purchase Value</th>        <th class=\"col_heading level0 col3\" >Avg Total Purchase per Person</th>    </tr>    <tr>        <th class=\"index_name level0\" >Gender</th>        <th class=\"blank\" ></th>        <th class=\"blank\" ></th>        <th class=\"blank\" ></th>        <th class=\"blank\" ></th>    </tr></thead><tbody>\n",
       "                <tr>\n",
       "                        <th id=\"T_efaafe46_6fbb_11e9_98eb_acbc32be7e49level0_row0\" class=\"row_heading level0 row0\" >Female</th>\n",
       "                        <td id=\"T_efaafe46_6fbb_11e9_98eb_acbc32be7e49row0_col0\" class=\"data row0 col0\" >113</td>\n",
       "                        <td id=\"T_efaafe46_6fbb_11e9_98eb_acbc32be7e49row0_col1\" class=\"data row0 col1\" >$3.20</td>\n",
       "                        <td id=\"T_efaafe46_6fbb_11e9_98eb_acbc32be7e49row0_col2\" class=\"data row0 col2\" >$361.94</td>\n",
       "                        <td id=\"T_efaafe46_6fbb_11e9_98eb_acbc32be7e49row0_col3\" class=\"data row0 col3\" >$4.47</td>\n",
       "            </tr>\n",
       "            <tr>\n",
       "                        <th id=\"T_efaafe46_6fbb_11e9_98eb_acbc32be7e49level0_row1\" class=\"row_heading level0 row1\" >Male</th>\n",
       "                        <td id=\"T_efaafe46_6fbb_11e9_98eb_acbc32be7e49row1_col0\" class=\"data row1 col0\" >652</td>\n",
       "                        <td id=\"T_efaafe46_6fbb_11e9_98eb_acbc32be7e49row1_col1\" class=\"data row1 col1\" >$3.02</td>\n",
       "                        <td id=\"T_efaafe46_6fbb_11e9_98eb_acbc32be7e49row1_col2\" class=\"data row1 col2\" >$1,967.64</td>\n",
       "                        <td id=\"T_efaafe46_6fbb_11e9_98eb_acbc32be7e49row1_col3\" class=\"data row1 col3\" >$4.07</td>\n",
       "            </tr>\n",
       "            <tr>\n",
       "                        <th id=\"T_efaafe46_6fbb_11e9_98eb_acbc32be7e49level0_row2\" class=\"row_heading level0 row2\" >Other / Non-Disclosed</th>\n",
       "                        <td id=\"T_efaafe46_6fbb_11e9_98eb_acbc32be7e49row2_col0\" class=\"data row2 col0\" >15</td>\n",
       "                        <td id=\"T_efaafe46_6fbb_11e9_98eb_acbc32be7e49row2_col1\" class=\"data row2 col1\" >$3.35</td>\n",
       "                        <td id=\"T_efaafe46_6fbb_11e9_98eb_acbc32be7e49row2_col2\" class=\"data row2 col2\" >$50.19</td>\n",
       "                        <td id=\"T_efaafe46_6fbb_11e9_98eb_acbc32be7e49row2_col3\" class=\"data row2 col3\" >$4.56</td>\n",
       "            </tr>\n",
       "    </tbody></table>"
      ],
      "text/plain": [
       "<pandas.io.formats.style.Styler at 0x116af2198>"
      ]
     },
     "execution_count": 124,
     "metadata": {},
     "output_type": "execute_result"
    }
   ],
   "source": [
    "################Purchasing Analysis (Gender)################\n",
    "\n",
    "#Purchase count by gender\n",
    "purchase_count = gender_count[\"Purchase ID\"].count()\n",
    "\n",
    "#Average Purchase price by gender\n",
    "avg_purchase_price = gender_count[\"Price\"].mean()\n",
    "\n",
    "#Total Purchase value by gender\n",
    "total_purchase_value = gender_count[\"Price\"].sum()\n",
    "\n",
    "#Total purchase value divided by total count by gender\n",
    "avg_purchase_per_person = total_purchase_value / total_count_gender\n",
    "\n",
    "#convert into dataframe\n",
    "purchase_analysis_gender = pd.DataFrame({\"Purchase Count\": purchase_count,\"Average Purchase Price\": avg_purchase_price,\"Total Purchase Value\": total_purchase_value,\"Avg Total Purchase per Person\": avg_purchase_per_person})\n",
    "\n",
    "#Format the average purchase price,total purchase value and average total purchase per person\n",
    "purchase_analysis_gender.style.format({'Average Purchase Price':\"${:,.2f}\",'Total Purchase Value':\"${:,.2f}\",'Avg Total Purchase per Person':\"${:,.2f}\"})\n"
   ]
  },
  {
   "cell_type": "code",
   "execution_count": 125,
   "metadata": {},
   "outputs": [
    {
     "data": {
      "text/html": [
       "<style  type=\"text/css\" >\n",
       "</style><table id=\"T_f01f27ba_6fbb_11e9_b17a_acbc32be7e49\" ><thead>    <tr>        <th class=\"blank level0\" ></th>        <th class=\"col_heading level0 col0\" >Total Count</th>        <th class=\"col_heading level0 col1\" >Percentage of Players</th>    </tr>    <tr>        <th class=\"index_name level0\" >Grouped_Age</th>        <th class=\"blank\" ></th>        <th class=\"blank\" ></th>    </tr></thead><tbody>\n",
       "                <tr>\n",
       "                        <th id=\"T_f01f27ba_6fbb_11e9_b17a_acbc32be7e49level0_row0\" class=\"row_heading level0 row0\" ><10</th>\n",
       "                        <td id=\"T_f01f27ba_6fbb_11e9_b17a_acbc32be7e49row0_col0\" class=\"data row0 col0\" >17</td>\n",
       "                        <td id=\"T_f01f27ba_6fbb_11e9_b17a_acbc32be7e49row0_col1\" class=\"data row0 col1\" >2.95</td>\n",
       "            </tr>\n",
       "            <tr>\n",
       "                        <th id=\"T_f01f27ba_6fbb_11e9_b17a_acbc32be7e49level0_row1\" class=\"row_heading level0 row1\" >10-14</th>\n",
       "                        <td id=\"T_f01f27ba_6fbb_11e9_b17a_acbc32be7e49row1_col0\" class=\"data row1 col0\" >22</td>\n",
       "                        <td id=\"T_f01f27ba_6fbb_11e9_b17a_acbc32be7e49row1_col1\" class=\"data row1 col1\" >3.82</td>\n",
       "            </tr>\n",
       "            <tr>\n",
       "                        <th id=\"T_f01f27ba_6fbb_11e9_b17a_acbc32be7e49level0_row2\" class=\"row_heading level0 row2\" >15-19</th>\n",
       "                        <td id=\"T_f01f27ba_6fbb_11e9_b17a_acbc32be7e49row2_col0\" class=\"data row2 col0\" >107</td>\n",
       "                        <td id=\"T_f01f27ba_6fbb_11e9_b17a_acbc32be7e49row2_col1\" class=\"data row2 col1\" >18.58</td>\n",
       "            </tr>\n",
       "            <tr>\n",
       "                        <th id=\"T_f01f27ba_6fbb_11e9_b17a_acbc32be7e49level0_row3\" class=\"row_heading level0 row3\" >20-24</th>\n",
       "                        <td id=\"T_f01f27ba_6fbb_11e9_b17a_acbc32be7e49row3_col0\" class=\"data row3 col0\" >258</td>\n",
       "                        <td id=\"T_f01f27ba_6fbb_11e9_b17a_acbc32be7e49row3_col1\" class=\"data row3 col1\" >44.79</td>\n",
       "            </tr>\n",
       "            <tr>\n",
       "                        <th id=\"T_f01f27ba_6fbb_11e9_b17a_acbc32be7e49level0_row4\" class=\"row_heading level0 row4\" >25-29</th>\n",
       "                        <td id=\"T_f01f27ba_6fbb_11e9_b17a_acbc32be7e49row4_col0\" class=\"data row4 col0\" >77</td>\n",
       "                        <td id=\"T_f01f27ba_6fbb_11e9_b17a_acbc32be7e49row4_col1\" class=\"data row4 col1\" >13.37</td>\n",
       "            </tr>\n",
       "            <tr>\n",
       "                        <th id=\"T_f01f27ba_6fbb_11e9_b17a_acbc32be7e49level0_row5\" class=\"row_heading level0 row5\" >30-34</th>\n",
       "                        <td id=\"T_f01f27ba_6fbb_11e9_b17a_acbc32be7e49row5_col0\" class=\"data row5 col0\" >52</td>\n",
       "                        <td id=\"T_f01f27ba_6fbb_11e9_b17a_acbc32be7e49row5_col1\" class=\"data row5 col1\" >9.03</td>\n",
       "            </tr>\n",
       "            <tr>\n",
       "                        <th id=\"T_f01f27ba_6fbb_11e9_b17a_acbc32be7e49level0_row6\" class=\"row_heading level0 row6\" >35-39</th>\n",
       "                        <td id=\"T_f01f27ba_6fbb_11e9_b17a_acbc32be7e49row6_col0\" class=\"data row6 col0\" >31</td>\n",
       "                        <td id=\"T_f01f27ba_6fbb_11e9_b17a_acbc32be7e49row6_col1\" class=\"data row6 col1\" >5.38</td>\n",
       "            </tr>\n",
       "            <tr>\n",
       "                        <th id=\"T_f01f27ba_6fbb_11e9_b17a_acbc32be7e49level0_row7\" class=\"row_heading level0 row7\" >40+</th>\n",
       "                        <td id=\"T_f01f27ba_6fbb_11e9_b17a_acbc32be7e49row7_col0\" class=\"data row7 col0\" >12</td>\n",
       "                        <td id=\"T_f01f27ba_6fbb_11e9_b17a_acbc32be7e49row7_col1\" class=\"data row7 col1\" >2.08</td>\n",
       "            </tr>\n",
       "    </tbody></table>"
      ],
      "text/plain": [
       "<pandas.io.formats.style.Styler at 0x116e4b710>"
      ]
     },
     "execution_count": 125,
     "metadata": {},
     "output_type": "execute_result"
    }
   ],
   "source": [
    "################Age Demographics################\n",
    "\n",
    "#Establish bins for ages\n",
    "bins = [0,9.9,14.9,19.9,24.9,29.9,34.9,39.9,999]\n",
    "\n",
    "#create name for each bins\n",
    "group_names = [\"<10\",\"10-14\",\"15-19\",\"20-24\",\"25-29\",\"30-34\",\"35-39\",\"40+\"]\n",
    "\n",
    "#Sort age with the bins for the players\n",
    "purchase_data[\"Grouped_Age\"]= pd.cut(purchase_data[\"Age\"],bins, labels=group_names)\n",
    "\n",
    "#purchase data by age\n",
    "age_grouped = purchase_data.groupby(\"Grouped_Age\")\n",
    "\n",
    "#Count the total of \"SN\" by age grouped\n",
    "total_count_age = age_grouped[\"SN\"].nunique()\n",
    "\n",
    "#Total count by age grouped and divivde by total players \n",
    "percentage_of_age = (total_count_age/player_count)*100\n",
    "\n",
    "#convert into dataframe\n",
    "Age_demographics = pd.DataFrame({\"Total Count\": total_count_age,\"Percentage of Players\": percentage_of_age})\n",
    "\n",
    "#Format the percentage of players\n",
    "Age_demographics.style.format({'Percentage of Players':\"{:,.2f}\"})"
   ]
  },
  {
   "cell_type": "code",
   "execution_count": 126,
   "metadata": {},
   "outputs": [
    {
     "data": {
      "text/html": [
       "<style  type=\"text/css\" >\n",
       "</style><table id=\"T_f0969b30_6fbb_11e9_9804_acbc32be7e49\" ><thead>    <tr>        <th class=\"blank level0\" ></th>        <th class=\"col_heading level0 col0\" >Purchase Count</th>        <th class=\"col_heading level0 col1\" >Average Purchase Price</th>        <th class=\"col_heading level0 col2\" >Total Purchase Value</th>        <th class=\"col_heading level0 col3\" >Avg Total Purchase per Person</th>    </tr>    <tr>        <th class=\"index_name level0\" >Grouped_Age</th>        <th class=\"blank\" ></th>        <th class=\"blank\" ></th>        <th class=\"blank\" ></th>        <th class=\"blank\" ></th>    </tr></thead><tbody>\n",
       "                <tr>\n",
       "                        <th id=\"T_f0969b30_6fbb_11e9_9804_acbc32be7e49level0_row0\" class=\"row_heading level0 row0\" ><10</th>\n",
       "                        <td id=\"T_f0969b30_6fbb_11e9_9804_acbc32be7e49row0_col0\" class=\"data row0 col0\" >23</td>\n",
       "                        <td id=\"T_f0969b30_6fbb_11e9_9804_acbc32be7e49row0_col1\" class=\"data row0 col1\" >$3.35</td>\n",
       "                        <td id=\"T_f0969b30_6fbb_11e9_9804_acbc32be7e49row0_col2\" class=\"data row0 col2\" >$77.13</td>\n",
       "                        <td id=\"T_f0969b30_6fbb_11e9_9804_acbc32be7e49row0_col3\" class=\"data row0 col3\" >$4.54</td>\n",
       "            </tr>\n",
       "            <tr>\n",
       "                        <th id=\"T_f0969b30_6fbb_11e9_9804_acbc32be7e49level0_row1\" class=\"row_heading level0 row1\" >10-14</th>\n",
       "                        <td id=\"T_f0969b30_6fbb_11e9_9804_acbc32be7e49row1_col0\" class=\"data row1 col0\" >28</td>\n",
       "                        <td id=\"T_f0969b30_6fbb_11e9_9804_acbc32be7e49row1_col1\" class=\"data row1 col1\" >$2.96</td>\n",
       "                        <td id=\"T_f0969b30_6fbb_11e9_9804_acbc32be7e49row1_col2\" class=\"data row1 col2\" >$82.78</td>\n",
       "                        <td id=\"T_f0969b30_6fbb_11e9_9804_acbc32be7e49row1_col3\" class=\"data row1 col3\" >$3.76</td>\n",
       "            </tr>\n",
       "            <tr>\n",
       "                        <th id=\"T_f0969b30_6fbb_11e9_9804_acbc32be7e49level0_row2\" class=\"row_heading level0 row2\" >15-19</th>\n",
       "                        <td id=\"T_f0969b30_6fbb_11e9_9804_acbc32be7e49row2_col0\" class=\"data row2 col0\" >136</td>\n",
       "                        <td id=\"T_f0969b30_6fbb_11e9_9804_acbc32be7e49row2_col1\" class=\"data row2 col1\" >$3.04</td>\n",
       "                        <td id=\"T_f0969b30_6fbb_11e9_9804_acbc32be7e49row2_col2\" class=\"data row2 col2\" >$412.89</td>\n",
       "                        <td id=\"T_f0969b30_6fbb_11e9_9804_acbc32be7e49row2_col3\" class=\"data row2 col3\" >$3.86</td>\n",
       "            </tr>\n",
       "            <tr>\n",
       "                        <th id=\"T_f0969b30_6fbb_11e9_9804_acbc32be7e49level0_row3\" class=\"row_heading level0 row3\" >20-24</th>\n",
       "                        <td id=\"T_f0969b30_6fbb_11e9_9804_acbc32be7e49row3_col0\" class=\"data row3 col0\" >365</td>\n",
       "                        <td id=\"T_f0969b30_6fbb_11e9_9804_acbc32be7e49row3_col1\" class=\"data row3 col1\" >$3.05</td>\n",
       "                        <td id=\"T_f0969b30_6fbb_11e9_9804_acbc32be7e49row3_col2\" class=\"data row3 col2\" >$1,114.06</td>\n",
       "                        <td id=\"T_f0969b30_6fbb_11e9_9804_acbc32be7e49row3_col3\" class=\"data row3 col3\" >$4.32</td>\n",
       "            </tr>\n",
       "            <tr>\n",
       "                        <th id=\"T_f0969b30_6fbb_11e9_9804_acbc32be7e49level0_row4\" class=\"row_heading level0 row4\" >25-29</th>\n",
       "                        <td id=\"T_f0969b30_6fbb_11e9_9804_acbc32be7e49row4_col0\" class=\"data row4 col0\" >101</td>\n",
       "                        <td id=\"T_f0969b30_6fbb_11e9_9804_acbc32be7e49row4_col1\" class=\"data row4 col1\" >$2.90</td>\n",
       "                        <td id=\"T_f0969b30_6fbb_11e9_9804_acbc32be7e49row4_col2\" class=\"data row4 col2\" >$293.00</td>\n",
       "                        <td id=\"T_f0969b30_6fbb_11e9_9804_acbc32be7e49row4_col3\" class=\"data row4 col3\" >$3.81</td>\n",
       "            </tr>\n",
       "            <tr>\n",
       "                        <th id=\"T_f0969b30_6fbb_11e9_9804_acbc32be7e49level0_row5\" class=\"row_heading level0 row5\" >30-34</th>\n",
       "                        <td id=\"T_f0969b30_6fbb_11e9_9804_acbc32be7e49row5_col0\" class=\"data row5 col0\" >73</td>\n",
       "                        <td id=\"T_f0969b30_6fbb_11e9_9804_acbc32be7e49row5_col1\" class=\"data row5 col1\" >$2.93</td>\n",
       "                        <td id=\"T_f0969b30_6fbb_11e9_9804_acbc32be7e49row5_col2\" class=\"data row5 col2\" >$214.00</td>\n",
       "                        <td id=\"T_f0969b30_6fbb_11e9_9804_acbc32be7e49row5_col3\" class=\"data row5 col3\" >$4.12</td>\n",
       "            </tr>\n",
       "            <tr>\n",
       "                        <th id=\"T_f0969b30_6fbb_11e9_9804_acbc32be7e49level0_row6\" class=\"row_heading level0 row6\" >35-39</th>\n",
       "                        <td id=\"T_f0969b30_6fbb_11e9_9804_acbc32be7e49row6_col0\" class=\"data row6 col0\" >41</td>\n",
       "                        <td id=\"T_f0969b30_6fbb_11e9_9804_acbc32be7e49row6_col1\" class=\"data row6 col1\" >$3.60</td>\n",
       "                        <td id=\"T_f0969b30_6fbb_11e9_9804_acbc32be7e49row6_col2\" class=\"data row6 col2\" >$147.67</td>\n",
       "                        <td id=\"T_f0969b30_6fbb_11e9_9804_acbc32be7e49row6_col3\" class=\"data row6 col3\" >$4.76</td>\n",
       "            </tr>\n",
       "            <tr>\n",
       "                        <th id=\"T_f0969b30_6fbb_11e9_9804_acbc32be7e49level0_row7\" class=\"row_heading level0 row7\" >40+</th>\n",
       "                        <td id=\"T_f0969b30_6fbb_11e9_9804_acbc32be7e49row7_col0\" class=\"data row7 col0\" >13</td>\n",
       "                        <td id=\"T_f0969b30_6fbb_11e9_9804_acbc32be7e49row7_col1\" class=\"data row7 col1\" >$2.94</td>\n",
       "                        <td id=\"T_f0969b30_6fbb_11e9_9804_acbc32be7e49row7_col2\" class=\"data row7 col2\" >$38.24</td>\n",
       "                        <td id=\"T_f0969b30_6fbb_11e9_9804_acbc32be7e49row7_col3\" class=\"data row7 col3\" >$3.19</td>\n",
       "            </tr>\n",
       "    </tbody></table>"
      ],
      "text/plain": [
       "<pandas.io.formats.style.Styler at 0x1046a86d8>"
      ]
     },
     "execution_count": 126,
     "metadata": {},
     "output_type": "execute_result"
    }
   ],
   "source": [
    "################Purchasing Analysis (Age)################\n",
    "\n",
    "#Purchase count by age group\n",
    "purchase_count_age = age_grouped[\"Purchase ID\"].count()\n",
    "\n",
    "#Average Purchase price by age group\n",
    "avg_purchase_price_age = age_grouped[\"Price\"].mean()\n",
    "\n",
    "#Total Purchase Value by age group\n",
    "total_purchase_value_age = age_grouped[\"Price\"].sum()\n",
    "\n",
    "#Total purchase value by age group divided by total count by age group\n",
    "avg_purchase_per_person_age = total_purchase_value_age / total_count_age\n",
    "\n",
    "#convert into dataframe\n",
    "purchase_analysis_age = pd.DataFrame({\"Purchase Count\":purchase_count_age ,\"Average Purchase Price\": avg_purchase_price_age,\"Total Purchase Value\": total_purchase_value_age,\"Avg Total Purchase per Person\": avg_purchase_per_person_age})\n",
    "\n",
    "#Format the average purchase price,total purchase value and average total purchase per person by age group\n",
    "purchase_analysis_age.style.format({'Average Purchase Price':\"${:,.2f}\",'Total Purchase Value':\"${:,.2f}\",'Avg Total Purchase per Person':\"${:,.2f}\"})\n"
   ]
  },
  {
   "cell_type": "code",
   "execution_count": 127,
   "metadata": {},
   "outputs": [
    {
     "data": {
      "text/html": [
       "<style  type=\"text/css\" >\n",
       "</style><table id=\"T_f0ff2a92_6fbb_11e9_a81f_acbc32be7e49\" ><thead>    <tr>        <th class=\"blank level0\" ></th>        <th class=\"col_heading level0 col0\" >Purchase Count</th>        <th class=\"col_heading level0 col1\" >Average Purchase Price</th>        <th class=\"col_heading level0 col2\" >Total Purchase Value</th>    </tr>    <tr>        <th class=\"index_name level0\" >SN</th>        <th class=\"blank\" ></th>        <th class=\"blank\" ></th>        <th class=\"blank\" ></th>    </tr></thead><tbody>\n",
       "                <tr>\n",
       "                        <th id=\"T_f0ff2a92_6fbb_11e9_a81f_acbc32be7e49level0_row0\" class=\"row_heading level0 row0\" >Lisosia93</th>\n",
       "                        <td id=\"T_f0ff2a92_6fbb_11e9_a81f_acbc32be7e49row0_col0\" class=\"data row0 col0\" >5</td>\n",
       "                        <td id=\"T_f0ff2a92_6fbb_11e9_a81f_acbc32be7e49row0_col1\" class=\"data row0 col1\" >$3.79</td>\n",
       "                        <td id=\"T_f0ff2a92_6fbb_11e9_a81f_acbc32be7e49row0_col2\" class=\"data row0 col2\" >$18.96</td>\n",
       "            </tr>\n",
       "            <tr>\n",
       "                        <th id=\"T_f0ff2a92_6fbb_11e9_a81f_acbc32be7e49level0_row1\" class=\"row_heading level0 row1\" >Idastidru52</th>\n",
       "                        <td id=\"T_f0ff2a92_6fbb_11e9_a81f_acbc32be7e49row1_col0\" class=\"data row1 col0\" >4</td>\n",
       "                        <td id=\"T_f0ff2a92_6fbb_11e9_a81f_acbc32be7e49row1_col1\" class=\"data row1 col1\" >$3.86</td>\n",
       "                        <td id=\"T_f0ff2a92_6fbb_11e9_a81f_acbc32be7e49row1_col2\" class=\"data row1 col2\" >$15.45</td>\n",
       "            </tr>\n",
       "            <tr>\n",
       "                        <th id=\"T_f0ff2a92_6fbb_11e9_a81f_acbc32be7e49level0_row2\" class=\"row_heading level0 row2\" >Chamjask73</th>\n",
       "                        <td id=\"T_f0ff2a92_6fbb_11e9_a81f_acbc32be7e49row2_col0\" class=\"data row2 col0\" >3</td>\n",
       "                        <td id=\"T_f0ff2a92_6fbb_11e9_a81f_acbc32be7e49row2_col1\" class=\"data row2 col1\" >$4.61</td>\n",
       "                        <td id=\"T_f0ff2a92_6fbb_11e9_a81f_acbc32be7e49row2_col2\" class=\"data row2 col2\" >$13.83</td>\n",
       "            </tr>\n",
       "            <tr>\n",
       "                        <th id=\"T_f0ff2a92_6fbb_11e9_a81f_acbc32be7e49level0_row3\" class=\"row_heading level0 row3\" >Iral74</th>\n",
       "                        <td id=\"T_f0ff2a92_6fbb_11e9_a81f_acbc32be7e49row3_col0\" class=\"data row3 col0\" >4</td>\n",
       "                        <td id=\"T_f0ff2a92_6fbb_11e9_a81f_acbc32be7e49row3_col1\" class=\"data row3 col1\" >$3.40</td>\n",
       "                        <td id=\"T_f0ff2a92_6fbb_11e9_a81f_acbc32be7e49row3_col2\" class=\"data row3 col2\" >$13.62</td>\n",
       "            </tr>\n",
       "            <tr>\n",
       "                        <th id=\"T_f0ff2a92_6fbb_11e9_a81f_acbc32be7e49level0_row4\" class=\"row_heading level0 row4\" >Iskadarya95</th>\n",
       "                        <td id=\"T_f0ff2a92_6fbb_11e9_a81f_acbc32be7e49row4_col0\" class=\"data row4 col0\" >3</td>\n",
       "                        <td id=\"T_f0ff2a92_6fbb_11e9_a81f_acbc32be7e49row4_col1\" class=\"data row4 col1\" >$4.37</td>\n",
       "                        <td id=\"T_f0ff2a92_6fbb_11e9_a81f_acbc32be7e49row4_col2\" class=\"data row4 col2\" >$13.10</td>\n",
       "            </tr>\n",
       "    </tbody></table>"
      ],
      "text/plain": [
       "<pandas.io.formats.style.Styler at 0x116c82080>"
      ]
     },
     "execution_count": 127,
     "metadata": {},
     "output_type": "execute_result"
    }
   ],
   "source": [
    "################Top Spenders################\n",
    "\n",
    "#Purchase data by spender\n",
    "spender_count = purchase_data.groupby(\"SN\")\n",
    "\n",
    "#Count the total of \"SN\" by spender\n",
    "total_count_spender = spender_count[\"SN\"].nunique()\n",
    "\n",
    "#Purchase count by spender\n",
    "purchase_count_spender = spender_count[\"Purchase ID\"].count()\n",
    "\n",
    "#Average Purchase price by spender\n",
    "avg_purchase_price_spender = spender_count[\"Price\"].mean()\n",
    "\n",
    "#Total Purchase value by spender\n",
    "total_purchase_value_spender = spender_count[\"Price\"].sum()\n",
    "\n",
    "#Convert into dataframe\n",
    "purchase_analysis_spender = pd.DataFrame({\"Purchase Count\": purchase_count_spender,\"Average Purchase Price\": avg_purchase_price_spender,\"Total Purchase Value\": total_purchase_value_spender})\n",
    "\n",
    "#Sort the total purchase value in descending order\n",
    "descending_spenders = purchase_analysis_spender.sort_values([\"Total Purchase Value\"], ascending = False)\n",
    "\n",
    "#Format the average purchase price and total purchase value\n",
    "descending_spenders.head().style.format({'Average Purchase Price':\"${:,.2f}\",'Total Purchase Value':\"${:,.2f}\"})"
   ]
  },
  {
   "cell_type": "code",
   "execution_count": 128,
   "metadata": {},
   "outputs": [
    {
     "data": {
      "text/html": [
       "<style  type=\"text/css\" >\n",
       "</style><table id=\"T_f160ad4c_6fbb_11e9_ae58_acbc32be7e49\" ><thead>    <tr>        <th class=\"blank\" ></th>        <th class=\"blank level0\" ></th>        <th class=\"col_heading level0 col0\" >Purchase Count</th>        <th class=\"col_heading level0 col1\" >Item Price</th>        <th class=\"col_heading level0 col2\" >Total Purchase Value</th>    </tr>    <tr>        <th class=\"index_name level0\" >Item ID</th>        <th class=\"index_name level1\" >Item Name</th>        <th class=\"blank\" ></th>        <th class=\"blank\" ></th>        <th class=\"blank\" ></th>    </tr></thead><tbody>\n",
       "                <tr>\n",
       "                        <th id=\"T_f160ad4c_6fbb_11e9_ae58_acbc32be7e49level0_row0\" class=\"row_heading level0 row0\" >178</th>\n",
       "                        <th id=\"T_f160ad4c_6fbb_11e9_ae58_acbc32be7e49level1_row0\" class=\"row_heading level1 row0\" >Oathbreaker, Last Hope of the Breaking Storm</th>\n",
       "                        <td id=\"T_f160ad4c_6fbb_11e9_ae58_acbc32be7e49row0_col0\" class=\"data row0 col0\" >12</td>\n",
       "                        <td id=\"T_f160ad4c_6fbb_11e9_ae58_acbc32be7e49row0_col1\" class=\"data row0 col1\" >$4.23</td>\n",
       "                        <td id=\"T_f160ad4c_6fbb_11e9_ae58_acbc32be7e49row0_col2\" class=\"data row0 col2\" >$50.76</td>\n",
       "            </tr>\n",
       "            <tr>\n",
       "                        <th id=\"T_f160ad4c_6fbb_11e9_ae58_acbc32be7e49level0_row1\" class=\"row_heading level0 row1\" >145</th>\n",
       "                        <th id=\"T_f160ad4c_6fbb_11e9_ae58_acbc32be7e49level1_row1\" class=\"row_heading level1 row1\" >Fiery Glass Crusader</th>\n",
       "                        <td id=\"T_f160ad4c_6fbb_11e9_ae58_acbc32be7e49row1_col0\" class=\"data row1 col0\" >9</td>\n",
       "                        <td id=\"T_f160ad4c_6fbb_11e9_ae58_acbc32be7e49row1_col1\" class=\"data row1 col1\" >$4.58</td>\n",
       "                        <td id=\"T_f160ad4c_6fbb_11e9_ae58_acbc32be7e49row1_col2\" class=\"data row1 col2\" >$41.22</td>\n",
       "            </tr>\n",
       "            <tr>\n",
       "                        <th id=\"T_f160ad4c_6fbb_11e9_ae58_acbc32be7e49level0_row2\" class=\"row_heading level0 row2\" >108</th>\n",
       "                        <th id=\"T_f160ad4c_6fbb_11e9_ae58_acbc32be7e49level1_row2\" class=\"row_heading level1 row2\" >Extraction, Quickblade Of Trembling Hands</th>\n",
       "                        <td id=\"T_f160ad4c_6fbb_11e9_ae58_acbc32be7e49row2_col0\" class=\"data row2 col0\" >9</td>\n",
       "                        <td id=\"T_f160ad4c_6fbb_11e9_ae58_acbc32be7e49row2_col1\" class=\"data row2 col1\" >$3.53</td>\n",
       "                        <td id=\"T_f160ad4c_6fbb_11e9_ae58_acbc32be7e49row2_col2\" class=\"data row2 col2\" >$31.77</td>\n",
       "            </tr>\n",
       "            <tr>\n",
       "                        <th id=\"T_f160ad4c_6fbb_11e9_ae58_acbc32be7e49level0_row3\" class=\"row_heading level0 row3\" >82</th>\n",
       "                        <th id=\"T_f160ad4c_6fbb_11e9_ae58_acbc32be7e49level1_row3\" class=\"row_heading level1 row3\" >Nirvana</th>\n",
       "                        <td id=\"T_f160ad4c_6fbb_11e9_ae58_acbc32be7e49row3_col0\" class=\"data row3 col0\" >9</td>\n",
       "                        <td id=\"T_f160ad4c_6fbb_11e9_ae58_acbc32be7e49row3_col1\" class=\"data row3 col1\" >$4.90</td>\n",
       "                        <td id=\"T_f160ad4c_6fbb_11e9_ae58_acbc32be7e49row3_col2\" class=\"data row3 col2\" >$44.10</td>\n",
       "            </tr>\n",
       "            <tr>\n",
       "                        <th id=\"T_f160ad4c_6fbb_11e9_ae58_acbc32be7e49level0_row4\" class=\"row_heading level0 row4\" >19</th>\n",
       "                        <th id=\"T_f160ad4c_6fbb_11e9_ae58_acbc32be7e49level1_row4\" class=\"row_heading level1 row4\" >Pursuit, Cudgel of Necromancy</th>\n",
       "                        <td id=\"T_f160ad4c_6fbb_11e9_ae58_acbc32be7e49row4_col0\" class=\"data row4 col0\" >8</td>\n",
       "                        <td id=\"T_f160ad4c_6fbb_11e9_ae58_acbc32be7e49row4_col1\" class=\"data row4 col1\" >$1.02</td>\n",
       "                        <td id=\"T_f160ad4c_6fbb_11e9_ae58_acbc32be7e49row4_col2\" class=\"data row4 col2\" >$8.16</td>\n",
       "            </tr>\n",
       "    </tbody></table>"
      ],
      "text/plain": [
       "<pandas.io.formats.style.Styler at 0x116c8f208>"
      ]
     },
     "execution_count": 128,
     "metadata": {},
     "output_type": "execute_result"
    }
   ],
   "source": [
    "################Most Popular Items################\n",
    "\n",
    "#groupby Item ID, Item Name\n",
    "item_count = purchase_data.groupby([\"Item ID\",\"Item Name\"])\n",
    "\n",
    "#calculation to obtain popular items purchase count\n",
    "item_purchase_count = item_count[\"Price\"].count()\n",
    "\n",
    "#calculation to obtain popular items total purchase value\n",
    "item_total_purchase_value= item_count[\"Price\"].sum()\n",
    "\n",
    "#calculation to obtain the item price\n",
    "item_price = item_total_purchase_value / item_purchase_count\n",
    "\n",
    "#Convert into dataframe\n",
    "popular_item_df = pd.DataFrame({\"Purchase Count\": item_purchase_count ,\"Item Price\": item_price,\"Total Purchase Value\": item_total_purchase_value})\n",
    "\n",
    "#Sort the purchase count column in descending order\n",
    "descending_item_purchase_count = popular_item_df.sort_values([\"Purchase Count\"], ascending = False)\n",
    "\n",
    "#Format the item price and total purchase value\n",
    "descending_item.head().style.format({'Item Price':\"${:,.2f}\",'Total Purchase Value':\"${:,.2f}\"})\n",
    "\n"
   ]
  },
  {
   "cell_type": "code",
   "execution_count": 129,
   "metadata": {},
   "outputs": [
    {
     "data": {
      "text/html": [
       "<style  type=\"text/css\" >\n",
       "</style><table id=\"T_f1c4f998_6fbb_11e9_a204_acbc32be7e49\" ><thead>    <tr>        <th class=\"blank\" ></th>        <th class=\"blank level0\" ></th>        <th class=\"col_heading level0 col0\" >Purchase Count</th>        <th class=\"col_heading level0 col1\" >Item Price</th>        <th class=\"col_heading level0 col2\" >Total Purchase Value</th>    </tr>    <tr>        <th class=\"index_name level0\" >Item ID</th>        <th class=\"index_name level1\" >Item Name</th>        <th class=\"blank\" ></th>        <th class=\"blank\" ></th>        <th class=\"blank\" ></th>    </tr></thead><tbody>\n",
       "                <tr>\n",
       "                        <th id=\"T_f1c4f998_6fbb_11e9_a204_acbc32be7e49level0_row0\" class=\"row_heading level0 row0\" >178</th>\n",
       "                        <th id=\"T_f1c4f998_6fbb_11e9_a204_acbc32be7e49level1_row0\" class=\"row_heading level1 row0\" >Oathbreaker, Last Hope of the Breaking Storm</th>\n",
       "                        <td id=\"T_f1c4f998_6fbb_11e9_a204_acbc32be7e49row0_col0\" class=\"data row0 col0\" >12</td>\n",
       "                        <td id=\"T_f1c4f998_6fbb_11e9_a204_acbc32be7e49row0_col1\" class=\"data row0 col1\" >$4.23</td>\n",
       "                        <td id=\"T_f1c4f998_6fbb_11e9_a204_acbc32be7e49row0_col2\" class=\"data row0 col2\" >$50.76</td>\n",
       "            </tr>\n",
       "            <tr>\n",
       "                        <th id=\"T_f1c4f998_6fbb_11e9_a204_acbc32be7e49level0_row1\" class=\"row_heading level0 row1\" >82</th>\n",
       "                        <th id=\"T_f1c4f998_6fbb_11e9_a204_acbc32be7e49level1_row1\" class=\"row_heading level1 row1\" >Nirvana</th>\n",
       "                        <td id=\"T_f1c4f998_6fbb_11e9_a204_acbc32be7e49row1_col0\" class=\"data row1 col0\" >9</td>\n",
       "                        <td id=\"T_f1c4f998_6fbb_11e9_a204_acbc32be7e49row1_col1\" class=\"data row1 col1\" >$4.90</td>\n",
       "                        <td id=\"T_f1c4f998_6fbb_11e9_a204_acbc32be7e49row1_col2\" class=\"data row1 col2\" >$44.10</td>\n",
       "            </tr>\n",
       "            <tr>\n",
       "                        <th id=\"T_f1c4f998_6fbb_11e9_a204_acbc32be7e49level0_row2\" class=\"row_heading level0 row2\" >145</th>\n",
       "                        <th id=\"T_f1c4f998_6fbb_11e9_a204_acbc32be7e49level1_row2\" class=\"row_heading level1 row2\" >Fiery Glass Crusader</th>\n",
       "                        <td id=\"T_f1c4f998_6fbb_11e9_a204_acbc32be7e49row2_col0\" class=\"data row2 col0\" >9</td>\n",
       "                        <td id=\"T_f1c4f998_6fbb_11e9_a204_acbc32be7e49row2_col1\" class=\"data row2 col1\" >$4.58</td>\n",
       "                        <td id=\"T_f1c4f998_6fbb_11e9_a204_acbc32be7e49row2_col2\" class=\"data row2 col2\" >$41.22</td>\n",
       "            </tr>\n",
       "            <tr>\n",
       "                        <th id=\"T_f1c4f998_6fbb_11e9_a204_acbc32be7e49level0_row3\" class=\"row_heading level0 row3\" >92</th>\n",
       "                        <th id=\"T_f1c4f998_6fbb_11e9_a204_acbc32be7e49level1_row3\" class=\"row_heading level1 row3\" >Final Critic</th>\n",
       "                        <td id=\"T_f1c4f998_6fbb_11e9_a204_acbc32be7e49row3_col0\" class=\"data row3 col0\" >8</td>\n",
       "                        <td id=\"T_f1c4f998_6fbb_11e9_a204_acbc32be7e49row3_col1\" class=\"data row3 col1\" >$4.88</td>\n",
       "                        <td id=\"T_f1c4f998_6fbb_11e9_a204_acbc32be7e49row3_col2\" class=\"data row3 col2\" >$39.04</td>\n",
       "            </tr>\n",
       "            <tr>\n",
       "                        <th id=\"T_f1c4f998_6fbb_11e9_a204_acbc32be7e49level0_row4\" class=\"row_heading level0 row4\" >103</th>\n",
       "                        <th id=\"T_f1c4f998_6fbb_11e9_a204_acbc32be7e49level1_row4\" class=\"row_heading level1 row4\" >Singed Scalpel</th>\n",
       "                        <td id=\"T_f1c4f998_6fbb_11e9_a204_acbc32be7e49row4_col0\" class=\"data row4 col0\" >8</td>\n",
       "                        <td id=\"T_f1c4f998_6fbb_11e9_a204_acbc32be7e49row4_col1\" class=\"data row4 col1\" >$4.35</td>\n",
       "                        <td id=\"T_f1c4f998_6fbb_11e9_a204_acbc32be7e49row4_col2\" class=\"data row4 col2\" >$34.80</td>\n",
       "            </tr>\n",
       "    </tbody></table>"
      ],
      "text/plain": [
       "<pandas.io.formats.style.Styler at 0x116e3ae48>"
      ]
     },
     "execution_count": 129,
     "metadata": {},
     "output_type": "execute_result"
    }
   ],
   "source": [
    "################Most Profitable Items################\n",
    "\n",
    "#Sort the above table by total purchase value in descending order\n",
    "descending_item_total_purchase_value = popular_item_df.sort_values([\"Total Purchase Value\"], ascending = False)\n",
    "\n",
    "#Format the item price and total purchase value\n",
    "descending_item_total_purchase_value.head().style.format({'Item Price':\"${:,.2f}\",'Total Purchase Value':\"${:,.2f}\"})\n"
   ]
  },
  {
   "cell_type": "code",
   "execution_count": null,
   "metadata": {},
   "outputs": [],
   "source": []
  },
  {
   "cell_type": "code",
   "execution_count": null,
   "metadata": {},
   "outputs": [],
   "source": []
  }
 ],
 "metadata": {
  "kernelspec": {
   "display_name": "Python [conda env:PythonData] *",
   "language": "python",
   "name": "conda-env-PythonData-py"
  },
  "language_info": {
   "codemirror_mode": {
    "name": "ipython",
    "version": 3
   },
   "file_extension": ".py",
   "mimetype": "text/x-python",
   "name": "python",
   "nbconvert_exporter": "python",
   "pygments_lexer": "ipython3",
   "version": "3.6.8"
  }
 },
 "nbformat": 4,
 "nbformat_minor": 2
}
